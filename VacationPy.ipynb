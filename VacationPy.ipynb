{
 "cells": [
  {
   "cell_type": "markdown",
   "metadata": {},
   "source": [
    "# VacationPy\n",
    "----\n",
    "\n",
    "#### Note\n",
    "* Keep an eye on your API usage. Use https://developers.google.com/maps/reporting/gmp-reporting as reference for how to monitor your usage and billing.\n",
    "\n",
    "* Instructions have been included for each segment. You do not have to follow them exactly, but they are included to help you think through the steps."
   ]
  },
  {
   "cell_type": "code",
   "execution_count": 40,
   "metadata": {},
   "outputs": [],
   "source": [
    "# Dependencies and Setup\n",
    "import matplotlib.pyplot as plt\n",
    "import pandas as pd\n",
    "import numpy as np\n",
    "import requests\n",
    "import gmaps\n",
    "import os\n",
    "\n",
    "# Import API key\n",
    "from config import g_key"
   ]
  },
  {
   "cell_type": "markdown",
   "metadata": {},
   "source": [
    "### Store Part I results into DataFrame\n",
    "* Load the csv exported in Part I to a DataFrame"
   ]
  },
  {
   "cell_type": "code",
   "execution_count": 3,
   "metadata": {},
   "outputs": [
    {
     "data": {
      "text/html": [
       "<div>\n",
       "<style scoped>\n",
       "    .dataframe tbody tr th:only-of-type {\n",
       "        vertical-align: middle;\n",
       "    }\n",
       "\n",
       "    .dataframe tbody tr th {\n",
       "        vertical-align: top;\n",
       "    }\n",
       "\n",
       "    .dataframe thead th {\n",
       "        text-align: right;\n",
       "    }\n",
       "</style>\n",
       "<table border=\"1\" class=\"dataframe\">\n",
       "  <thead>\n",
       "    <tr style=\"text-align: right;\">\n",
       "      <th></th>\n",
       "      <th>City</th>\n",
       "      <th>Lat</th>\n",
       "      <th>Lng</th>\n",
       "      <th>Max Temp</th>\n",
       "      <th>Humidity</th>\n",
       "      <th>Cloudiness</th>\n",
       "      <th>Wind Speed</th>\n",
       "      <th>Country</th>\n",
       "      <th>Date</th>\n",
       "    </tr>\n",
       "  </thead>\n",
       "  <tbody>\n",
       "    <tr>\n",
       "      <th>0</th>\n",
       "      <td>Yellowknife</td>\n",
       "      <td>62.4560</td>\n",
       "      <td>-114.3525</td>\n",
       "      <td>5.87</td>\n",
       "      <td>60</td>\n",
       "      <td>100</td>\n",
       "      <td>2.68</td>\n",
       "      <td>CA</td>\n",
       "      <td>1633720500</td>\n",
       "    </tr>\n",
       "    <tr>\n",
       "      <th>1</th>\n",
       "      <td>Atuona</td>\n",
       "      <td>-9.8000</td>\n",
       "      <td>-139.0333</td>\n",
       "      <td>25.53</td>\n",
       "      <td>72</td>\n",
       "      <td>6</td>\n",
       "      <td>7.06</td>\n",
       "      <td>PF</td>\n",
       "      <td>1633720640</td>\n",
       "    </tr>\n",
       "    <tr>\n",
       "      <th>2</th>\n",
       "      <td>Mataura</td>\n",
       "      <td>-46.1927</td>\n",
       "      <td>168.8643</td>\n",
       "      <td>9.71</td>\n",
       "      <td>100</td>\n",
       "      <td>100</td>\n",
       "      <td>1.35</td>\n",
       "      <td>NZ</td>\n",
       "      <td>1633720640</td>\n",
       "    </tr>\n",
       "    <tr>\n",
       "      <th>3</th>\n",
       "      <td>Narsaq</td>\n",
       "      <td>60.9167</td>\n",
       "      <td>-46.0500</td>\n",
       "      <td>6.12</td>\n",
       "      <td>50</td>\n",
       "      <td>2</td>\n",
       "      <td>1.71</td>\n",
       "      <td>GL</td>\n",
       "      <td>1633720641</td>\n",
       "    </tr>\n",
       "    <tr>\n",
       "      <th>4</th>\n",
       "      <td>Bathsheba</td>\n",
       "      <td>13.2167</td>\n",
       "      <td>-59.5167</td>\n",
       "      <td>28.34</td>\n",
       "      <td>78</td>\n",
       "      <td>40</td>\n",
       "      <td>5.14</td>\n",
       "      <td>BB</td>\n",
       "      <td>1633720641</td>\n",
       "    </tr>\n",
       "  </tbody>\n",
       "</table>\n",
       "</div>"
      ],
      "text/plain": [
       "          City      Lat       Lng  Max Temp  Humidity  Cloudiness  Wind Speed  \\\n",
       "0  Yellowknife  62.4560 -114.3525      5.87        60         100        2.68   \n",
       "1       Atuona  -9.8000 -139.0333     25.53        72           6        7.06   \n",
       "2      Mataura -46.1927  168.8643      9.71       100         100        1.35   \n",
       "3       Narsaq  60.9167  -46.0500      6.12        50           2        1.71   \n",
       "4    Bathsheba  13.2167  -59.5167     28.34        78          40        5.14   \n",
       "\n",
       "  Country        Date  \n",
       "0      CA  1633720500  \n",
       "1      PF  1633720640  \n",
       "2      NZ  1633720640  \n",
       "3      GL  1633720641  \n",
       "4      BB  1633720641  "
      ]
     },
     "execution_count": 3,
     "metadata": {},
     "output_type": "execute_result"
    }
   ],
   "source": [
    "cities_data = pd.read_csv(\"output_data/cities.csv\")\n",
    "cities_data.head()"
   ]
  },
  {
   "cell_type": "markdown",
   "metadata": {},
   "source": [
    "### Humidity Heatmap\n",
    "* Configure gmaps.\n",
    "* Use the Lat and Lng as locations and Humidity as the weight.\n",
    "* Add Heatmap layer to map."
   ]
  },
  {
   "cell_type": "code",
   "execution_count": 21,
   "metadata": {},
   "outputs": [],
   "source": [
    "# Configure gmaps\n",
    "gmaps.configure(api_key = g_key)"
   ]
  },
  {
   "cell_type": "code",
   "execution_count": 20,
   "metadata": {},
   "outputs": [
    {
     "data": {
      "application/vnd.jupyter.widget-view+json": {
       "model_id": "8de68406914c43d79e7f3559ac050a26",
       "version_major": 2,
       "version_minor": 0
      },
      "text/plain": [
       "Figure(layout=FigureLayout(height='420px'))"
      ]
     },
     "metadata": {},
     "output_type": "display_data"
    }
   ],
   "source": [
    "# Set up locations and weight for the map\n",
    "locations = cities_data[['Lat', 'Lng']]\n",
    "weights = cities_data['Humidity']\n",
    "\n",
    "# Display heatmap\n",
    "fig = gmaps.figure()\n",
    "heat_layer = gmaps.heatmap_layer(locations, weights=weights, \n",
    "                                 dissipating=False, max_intensity=100,\n",
    "                                 point_radius = 2)\n",
    "fig.add_layer(heat_layer)\n",
    "fig"
   ]
  },
  {
   "cell_type": "markdown",
   "metadata": {},
   "source": [
    "### Create new DataFrame fitting weather criteria\n",
    "* Narrow down the cities to fit weather conditions.\n",
    "* Drop any rows will null values."
   ]
  },
  {
   "cell_type": "code",
   "execution_count": 32,
   "metadata": {},
   "outputs": [
    {
     "data": {
      "text/html": [
       "<div>\n",
       "<style scoped>\n",
       "    .dataframe tbody tr th:only-of-type {\n",
       "        vertical-align: middle;\n",
       "    }\n",
       "\n",
       "    .dataframe tbody tr th {\n",
       "        vertical-align: top;\n",
       "    }\n",
       "\n",
       "    .dataframe thead th {\n",
       "        text-align: right;\n",
       "    }\n",
       "</style>\n",
       "<table border=\"1\" class=\"dataframe\">\n",
       "  <thead>\n",
       "    <tr style=\"text-align: right;\">\n",
       "      <th></th>\n",
       "      <th>City</th>\n",
       "      <th>Lat</th>\n",
       "      <th>Lng</th>\n",
       "      <th>Max Temp</th>\n",
       "      <th>Humidity</th>\n",
       "      <th>Cloudiness</th>\n",
       "      <th>Wind Speed</th>\n",
       "      <th>Country</th>\n",
       "      <th>Date</th>\n",
       "    </tr>\n",
       "  </thead>\n",
       "  <tbody>\n",
       "    <tr>\n",
       "      <th>11</th>\n",
       "      <td>Rzhaksa</td>\n",
       "      <td>52.1338</td>\n",
       "      <td>42.0264</td>\n",
       "      <td>4.71</td>\n",
       "      <td>57</td>\n",
       "      <td>0</td>\n",
       "      <td>1.81</td>\n",
       "      <td>RU</td>\n",
       "      <td>1633720644</td>\n",
       "    </tr>\n",
       "    <tr>\n",
       "      <th>105</th>\n",
       "      <td>Mordovo</td>\n",
       "      <td>52.0834</td>\n",
       "      <td>40.7700</td>\n",
       "      <td>5.16</td>\n",
       "      <td>55</td>\n",
       "      <td>0</td>\n",
       "      <td>1.97</td>\n",
       "      <td>RU</td>\n",
       "      <td>1633720687</td>\n",
       "    </tr>\n",
       "    <tr>\n",
       "      <th>136</th>\n",
       "      <td>Heraclea</td>\n",
       "      <td>37.5133</td>\n",
       "      <td>34.0467</td>\n",
       "      <td>14.19</td>\n",
       "      <td>31</td>\n",
       "      <td>0</td>\n",
       "      <td>0.84</td>\n",
       "      <td>TR</td>\n",
       "      <td>1633720701</td>\n",
       "    </tr>\n",
       "    <tr>\n",
       "      <th>155</th>\n",
       "      <td>Bodri</td>\n",
       "      <td>23.1667</td>\n",
       "      <td>81.4333</td>\n",
       "      <td>22.97</td>\n",
       "      <td>68</td>\n",
       "      <td>0</td>\n",
       "      <td>1.81</td>\n",
       "      <td>IN</td>\n",
       "      <td>1633720711</td>\n",
       "    </tr>\n",
       "    <tr>\n",
       "      <th>357</th>\n",
       "      <td>Marquard</td>\n",
       "      <td>-28.6645</td>\n",
       "      <td>27.4305</td>\n",
       "      <td>16.03</td>\n",
       "      <td>22</td>\n",
       "      <td>0</td>\n",
       "      <td>1.58</td>\n",
       "      <td>ZA</td>\n",
       "      <td>1633720800</td>\n",
       "    </tr>\n",
       "    <tr>\n",
       "      <th>425</th>\n",
       "      <td>Niğde</td>\n",
       "      <td>37.8333</td>\n",
       "      <td>34.7500</td>\n",
       "      <td>10.05</td>\n",
       "      <td>29</td>\n",
       "      <td>0</td>\n",
       "      <td>0.62</td>\n",
       "      <td>TR</td>\n",
       "      <td>1633720833</td>\n",
       "    </tr>\n",
       "    <tr>\n",
       "      <th>476</th>\n",
       "      <td>Korla</td>\n",
       "      <td>41.7597</td>\n",
       "      <td>86.1469</td>\n",
       "      <td>6.14</td>\n",
       "      <td>33</td>\n",
       "      <td>0</td>\n",
       "      <td>1.72</td>\n",
       "      <td>CN</td>\n",
       "      <td>1633720858</td>\n",
       "    </tr>\n",
       "    <tr>\n",
       "      <th>513</th>\n",
       "      <td>Milas</td>\n",
       "      <td>37.3164</td>\n",
       "      <td>27.7839</td>\n",
       "      <td>15.64</td>\n",
       "      <td>67</td>\n",
       "      <td>0</td>\n",
       "      <td>1.54</td>\n",
       "      <td>TR</td>\n",
       "      <td>1633720876</td>\n",
       "    </tr>\n",
       "    <tr>\n",
       "      <th>527</th>\n",
       "      <td>Tingi</td>\n",
       "      <td>-11.3000</td>\n",
       "      <td>35.0333</td>\n",
       "      <td>19.43</td>\n",
       "      <td>51</td>\n",
       "      <td>0</td>\n",
       "      <td>0.78</td>\n",
       "      <td>TZ</td>\n",
       "      <td>1633720883</td>\n",
       "    </tr>\n",
       "    <tr>\n",
       "      <th>558</th>\n",
       "      <td>Jurm</td>\n",
       "      <td>36.8648</td>\n",
       "      <td>70.8342</td>\n",
       "      <td>10.31</td>\n",
       "      <td>47</td>\n",
       "      <td>0</td>\n",
       "      <td>0.85</td>\n",
       "      <td>AF</td>\n",
       "      <td>1633720897</td>\n",
       "    </tr>\n",
       "  </tbody>\n",
       "</table>\n",
       "</div>"
      ],
      "text/plain": [
       "         City      Lat      Lng  Max Temp  Humidity  Cloudiness  Wind Speed  \\\n",
       "11    Rzhaksa  52.1338  42.0264      4.71        57           0        1.81   \n",
       "105   Mordovo  52.0834  40.7700      5.16        55           0        1.97   \n",
       "136  Heraclea  37.5133  34.0467     14.19        31           0        0.84   \n",
       "155     Bodri  23.1667  81.4333     22.97        68           0        1.81   \n",
       "357  Marquard -28.6645  27.4305     16.03        22           0        1.58   \n",
       "425     Niğde  37.8333  34.7500     10.05        29           0        0.62   \n",
       "476     Korla  41.7597  86.1469      6.14        33           0        1.72   \n",
       "513     Milas  37.3164  27.7839     15.64        67           0        1.54   \n",
       "527     Tingi -11.3000  35.0333     19.43        51           0        0.78   \n",
       "558      Jurm  36.8648  70.8342     10.31        47           0        0.85   \n",
       "\n",
       "    Country        Date  \n",
       "11       RU  1633720644  \n",
       "105      RU  1633720687  \n",
       "136      TR  1633720701  \n",
       "155      IN  1633720711  \n",
       "357      ZA  1633720800  \n",
       "425      TR  1633720833  \n",
       "476      CN  1633720858  \n",
       "513      TR  1633720876  \n",
       "527      TZ  1633720883  \n",
       "558      AF  1633720897  "
      ]
     },
     "execution_count": 32,
     "metadata": {},
     "output_type": "execute_result"
    }
   ],
   "source": [
    "ideal_cities = cities_data.loc[(cities_data['Max Temp'] <= 24.4) & (cities_data['Humidity'] <= 68) & (cities_data['Wind Speed'] <= 2) & (cities_data['Cloudiness'] <= 0)]\n",
    "ideal_cities"
   ]
  },
  {
   "cell_type": "markdown",
   "metadata": {},
   "source": [
    "### Hotel Map\n",
    "* Store into variable named `hotel_df`.\n",
    "* Add a \"Hotel Name\" column to the DataFrame.\n",
    "* Set parameters to search for hotels with 5000 meters.\n",
    "* Hit the Google Places API for each city's coordinates.\n",
    "* Store the first Hotel result into the DataFrame.\n",
    "* Plot markers on top of the heatmap."
   ]
  },
  {
   "cell_type": "code",
   "execution_count": 170,
   "metadata": {},
   "outputs": [],
   "source": [
    "# Create the hotels dataframe with a column for Hotel Name\n",
    "hotel_df = pd.DataFrame(columns=['Hotel Name'])\n",
    "\n",
    "# Set up the base url to query a nearby search in google API\n",
    "nearby_url = \"https://maps.googleapis.com/maps/api/place/nearbysearch/json\"\n",
    "place_url = \"https://maps.googleapis.com/maps/api/geocode/json?latlng=\""
   ]
  },
  {
   "cell_type": "code",
   "execution_count": 178,
   "metadata": {},
   "outputs": [],
   "source": [
    "# Loop through the cities dataframe, using the latitude and longitude data for the location parameter in the API request.\n",
    "# Store the hotel name, latitude and longitude in lists. Use the latitude and longitude from the query to \n",
    "# perform another query for the hotel's city and country. Store each in separate lists\n",
    "hotel_names = []\n",
    "cities = []\n",
    "countries = []\n",
    "responses = []\n",
    "for index, row in ideal_cities.iterrows():\n",
    "    latitude = row[1]\n",
    "    longitude = row[2]\n",
    "    hotel_query_url = f\"{nearby_url}?keyword=hotel&location={latitude}%2C{longitude}&radius=5000&type=hotel&key={g_key}\"\n",
    "    hotel_response = requests.get(hotel_query_url).json()\n",
    "    try:\n",
    "        hotel_names.append(hotel_response['results'][0]['name'])\n",
    "        hotel_lat = hotel_response['results'][0]['geometry']['location']['lat']\n",
    "        hotel_lng = hotel_response['results'][0]['geometry']['location']['lng']\n",
    "        place_query_url = f\"{place_url}{hotel_lat},{hotel_lng}&result_type=locality%7Ccountry&key={g_key}\"\n",
    "        place_response = requests.get(place_query_url).json()\n",
    "        try:\n",
    "            cities.append(place_response['results'][0]['address_components'][0]['long_name'])\n",
    "        except:\n",
    "            cities.append('No city found')\n",
    "        try:\n",
    "            countries.append(place_response['results'][0]['address_components'][3]['long_name'])\n",
    "        except:\n",
    "            countries.append('No country found')\n",
    "    except:\n",
    "#         print('no place found')\n",
    "        hotel_names.append('No hotel within 5000 meters!')\n",
    "#     responses.append(hotel_response)\n",
    "\n",
    "# Use the lists to fill in the hotels dataframe\n",
    "# hotel_df['Hotel Name'] = hotel_names\n",
    "# hotel_df['City'] = cities\n",
    "# hotel_df['Country'] = countries\n",
    "# hotel_df\n",
    "# Loop through the hotels dataframe find the cities and countries the hotel is in\n",
    "\n",
    "# Plot the "
   ]
  },
  {
   "cell_type": "code",
   "execution_count": 180,
   "metadata": {},
   "outputs": [
    {
     "data": {
      "text/plain": [
       "['Rzhaksa',\n",
       " 'Belceağaç',\n",
       " 'Marquard',\n",
       " 'Bayingolin Mongol Autonomous Prefecture',\n",
       " 'Milas']"
      ]
     },
     "execution_count": 180,
     "metadata": {},
     "output_type": "execute_result"
    }
   ],
   "source": [
    "cities"
   ]
  },
  {
   "cell_type": "code",
   "execution_count": 150,
   "metadata": {},
   "outputs": [
    {
     "data": {
      "text/plain": [
       "42.0174166"
      ]
     },
     "execution_count": 150,
     "metadata": {},
     "output_type": "execute_result"
    }
   ],
   "source": [
    "hotel_lat = responses[0]['results'][0]['geometry']['location']['lat']\n",
    "hotel_lng = responses[0]['results'][0]['geometry']['location']['lng']\n",
    "hotel_lng"
   ]
  },
  {
   "cell_type": "code",
   "execution_count": 152,
   "metadata": {},
   "outputs": [
    {
     "data": {
      "text/plain": [
       "{'plus_code': {'compound_code': '42Q8+6X Rzhaksa, Tambov Oblast, Russia',\n",
       "  'global_code': '9H4442Q8+6X'},\n",
       " 'results': [{'address_components': [{'long_name': 'Rzhaksa',\n",
       "     'short_name': 'Rzhaksa',\n",
       "     'types': ['locality', 'political']},\n",
       "    {'long_name': 'Rzhaksinsky District',\n",
       "     'short_name': 'Rzhaksinsky District',\n",
       "     'types': ['administrative_area_level_2', 'political']},\n",
       "    {'long_name': 'Tambov Oblast',\n",
       "     'short_name': 'Tambov Oblast',\n",
       "     'types': ['administrative_area_level_1', 'political']},\n",
       "    {'long_name': 'Russia',\n",
       "     'short_name': 'RU',\n",
       "     'types': ['country', 'political']}],\n",
       "   'formatted_address': 'Rzhaksa, Tambov Oblast, Russia',\n",
       "   'geometry': {'bounds': {'northeast': {'lat': 52.182011, 'lng': 42.1361589},\n",
       "     'southwest': {'lat': 52.1198941, 'lng': 41.9892339}},\n",
       "    'location': {'lat': 52.1342381, 'lng': 42.02441109999999},\n",
       "    'location_type': 'APPROXIMATE',\n",
       "    'viewport': {'northeast': {'lat': 52.182011, 'lng': 42.1361589},\n",
       "     'southwest': {'lat': 52.1198941, 'lng': 41.9892339}}},\n",
       "   'place_id': 'ChIJe4JoBwGjPkERensEHGDObtI',\n",
       "   'types': ['locality', 'political']},\n",
       "  {'address_components': [{'long_name': 'Russia',\n",
       "     'short_name': 'RU',\n",
       "     'types': ['country', 'political']}],\n",
       "   'formatted_address': 'Russia',\n",
       "   'geometry': {'bounds': {'northeast': {'lat': 82.1673907, 'lng': -168.97788},\n",
       "     'southwest': {'lat': 41.185353, 'lng': 19.6160999}},\n",
       "    'location': {'lat': 61.52401, 'lng': 105.318756},\n",
       "    'location_type': 'APPROXIMATE',\n",
       "    'viewport': {'northeast': {'lat': 82.1673907, 'lng': -168.97788},\n",
       "     'southwest': {'lat': 41.185353, 'lng': 19.6160999}}},\n",
       "   'place_id': 'ChIJ-yRniZpWPEURE_YRZvj9CRQ',\n",
       "   'types': ['country', 'political']}],\n",
       " 'status': 'OK'}"
      ]
     },
     "execution_count": 152,
     "metadata": {},
     "output_type": "execute_result"
    }
   ],
   "source": [
    "place_url = \"https://maps.googleapis.com/maps/api/geocode/json?latlng=\"\n",
    "place_query_url = f\"{place_url}{hotel_lat},{hotel_lng}&result_type=locality%7Ccountry&key={g_key}\"\n",
    "place_response = requests.get(place_query_url).json()"
   ]
  },
  {
   "cell_type": "code",
   "execution_count": 163,
   "metadata": {},
   "outputs": [
    {
     "data": {
      "text/plain": [
       "'Russia'"
      ]
     },
     "execution_count": 163,
     "metadata": {},
     "output_type": "execute_result"
    }
   ],
   "source": [
    "city = place_response['results'][0]['address_components'][0]['long_name']\n",
    "country = place_response['results'][0]['address_components'][3]['long_name']"
   ]
  },
  {
   "cell_type": "code",
   "execution_count": null,
   "metadata": {},
   "outputs": [],
   "source": [
    "# NOTE: Do not change any of the code in this cell\n",
    "\n",
    "# Using the template add the hotel marks to the heatmap\n",
    "info_box_template = \"\"\"\n",
    "<dl>\n",
    "<dt>Name</dt><dd>{Hotel Name}</dd>\n",
    "<dt>City</dt><dd>{City}</dd>\n",
    "<dt>Country</dt><dd>{Country}</dd>\n",
    "</dl>\n",
    "\"\"\"\n",
    "# Store the DataFrame Row\n",
    "# NOTE: be sure to update with your DataFrame name\n",
    "hotel_info = [info_box_template.format(**row) for index, row in hotel_df.iterrows()]\n",
    "locations = hotel_df[[\"Lat\", \"Lng\"]]"
   ]
  },
  {
   "cell_type": "code",
   "execution_count": null,
   "metadata": {},
   "outputs": [],
   "source": [
    "# Add marker layer ontop of heat map\n",
    "\n",
    "\n",
    "# Display figure\n"
   ]
  },
  {
   "cell_type": "code",
   "execution_count": null,
   "metadata": {},
   "outputs": [],
   "source": []
  }
 ],
 "metadata": {
  "kernelspec": {
   "display_name": "Python 3",
   "language": "python",
   "name": "python3"
  },
  "language_info": {
   "codemirror_mode": {
    "name": "ipython",
    "version": 3
   },
   "file_extension": ".py",
   "mimetype": "text/x-python",
   "name": "python",
   "nbconvert_exporter": "python",
   "pygments_lexer": "ipython3",
   "version": "3.8.8"
  },
  "latex_envs": {
   "LaTeX_envs_menu_present": true,
   "autoclose": false,
   "autocomplete": true,
   "bibliofile": "biblio.bib",
   "cite_by": "apalike",
   "current_citInitial": 1,
   "eqLabelWithNumbers": true,
   "eqNumInitial": 1,
   "hotkeys": {
    "equation": "Ctrl-E",
    "itemize": "Ctrl-I"
   },
   "labels_anchors": false,
   "latex_user_defs": false,
   "report_style_numbering": false,
   "user_envs_cfg": false
  }
 },
 "nbformat": 4,
 "nbformat_minor": 4
}
