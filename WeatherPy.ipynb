{
 "cells": [
  {
   "cell_type": "markdown",
   "metadata": {},
   "source": [
    "# How's The Weather Out There?"
   ]
  },
  {
   "cell_type": "code",
   "execution_count": null,
   "metadata": {
    "scrolled": true
   },
   "outputs": [],
   "source": [
    "# Dependencies and Setup\n",
    "import matplotlib.pyplot as plt\n",
    "import pandas as pd\n",
    "import numpy as np\n",
    "import requests\n",
    "import time\n",
    "from scipy.stats import linregress\n",
    "\n",
    "# Import API key\n",
    "from config import weather_api_key\n",
    "\n",
    "# Incorporated citipy to determine city based on latitude and longitude\n",
    "from citipy import citipy\n",
    "\n",
    "# Output File (CSV)\n",
    "output_data_file = \"output_data/cities.csv\"\n",
    "\n",
    "# Range of latitudes and longitudes\n",
    "lat_range = (-90, 90)\n",
    "lng_range = (-180, 180)"
   ]
  },
  {
   "cell_type": "markdown",
   "metadata": {},
   "source": [
    "## Generate Cities List"
   ]
  },
  {
   "cell_type": "code",
   "execution_count": null,
   "metadata": {},
   "outputs": [],
   "source": [
    "# List for holding lat_lngs and cities\n",
    "lat_lngs = []\n",
    "cities = []\n",
    "\n",
    "# Create a set of random lat and lng combinations\n",
    "lats = np.random.uniform(lat_range[0], lat_range[1], size=1500)\n",
    "lngs = np.random.uniform(lng_range[0], lng_range[1], size=1500)\n",
    "lat_lngs = zip(lats, lngs)\n",
    "\n",
    "# Identify nearest city for each lat, lng combination\n",
    "for lat_lng in lat_lngs:\n",
    "    city = citipy.nearest_city(lat_lng[0], lat_lng[1]).city_name\n",
    "    \n",
    "    # If the city is unique, then add it to a our cities list\n",
    "    if city not in cities:\n",
    "        cities.append(city)\n",
    "\n",
    "# Print the city count to confirm sufficient count\n",
    "len(cities)"
   ]
  },
  {
   "cell_type": "markdown",
   "metadata": {},
   "source": [
    "### Perform API Calls\n",
    "* Perform a weather check on each city using a series of successive API calls.\n",
    "* Include a print log of each city as it'sbeing processed (with the city number and city name).\n"
   ]
  },
  {
   "cell_type": "code",
   "execution_count": null,
   "metadata": {
    "scrolled": true
   },
   "outputs": [],
   "source": [
    "# Create a list to store the json response for each city\n",
    "responses = []\n",
    "\n",
    "# Create base url\n",
    "base_url = \"http://api.openweathermap.org/data/2.5/weather?q=\"\n",
    "\n",
    "city_count = 0\n",
    "for city in cities:\n",
    "    url = base_url + f\"{city}&units=metric&appid={weather_api_key}\"\n",
    "    city_data = requests.get(url).json()\n",
    "    if city_data['cod'] == '404':\n",
    "        print('City not found. Skipping...')\n",
    "    else:\n",
    "        responses.append(city_data)\n",
    "        city_count += 1\n",
    "        print(f\"Processing record {city_count} | {city_data['name']}\")"
   ]
  },
  {
   "cell_type": "markdown",
   "metadata": {},
   "source": [
    "## Convert Raw Data to DataFrame\n",
    "* Export the city data into a .csv.\n",
    "* Display the DataFrame"
   ]
  },
  {
   "cell_type": "code",
   "execution_count": null,
   "metadata": {},
   "outputs": [],
   "source": [
    "# Create lists to store values\n",
    "found_cities = []\n",
    "lats = []\n",
    "lngs = []\n",
    "max_temps = []\n",
    "humidities = []\n",
    "clouds = []\n",
    "wind_speeds = []\n",
    "countries = []\n",
    "dates = []\n",
    "\n",
    "\n",
    "for i in range(city_count):\n",
    "    response = responses[i]\n",
    "    found_cities.append(response['name'])\n",
    "    lats.append(response['coord']['lat'])\n",
    "    lngs.append(response['coord']['lon'])\n",
    "    max_temps.append(response['main']['temp_max'])\n",
    "    humidities.append(response['main']['humidity'])\n",
    "    clouds.append(response['clouds']['all'])\n",
    "    wind_speeds.append(response['wind']['speed'])\n",
    "    countries.append(response['sys']['country'])\n",
    "    dates.append(response['dt'])\n",
    "    \n",
    "city_weather_data = pd.DataFrame({'City': found_cities,\n",
    "                                  'Lat': lats,\n",
    "                                  'Lng': lngs,\n",
    "                                  'Max Temp': max_temps,\n",
    "                                  'Humidity': humidities,\n",
    "                                  'Cloudiness': clouds,\n",
    "                                  'Wind Speed': wind_speeds,\n",
    "                                  'Country': countries,\n",
    "                                  'Date': dates})\n",
    "city_weather_data.head()"
   ]
  },
  {
   "cell_type": "code",
   "execution_count": null,
   "metadata": {},
   "outputs": [],
   "source": [
    "city_weather_data.describe()"
   ]
  },
  {
   "cell_type": "code",
   "execution_count": null,
   "metadata": {},
   "outputs": [],
   "source": [
    "city_weather_data.to_csv(output_data_file, index=False)"
   ]
  },
  {
   "cell_type": "markdown",
   "metadata": {},
   "source": [
    "## Inspect the data and remove the cities where the humidity > 100%.\n",
    "----"
   ]
  },
  {
   "cell_type": "markdown",
   "metadata": {},
   "source": [
    "Based on the summary table above, there are no cities where humidity > 100%!"
   ]
  },
  {
   "cell_type": "markdown",
   "metadata": {},
   "source": [
    "## Plotting the Data\n",
    "* Use proper labeling of the plots using plot titles (including date of analysis) and axes labels.\n",
    "* Save the plotted figures as .pngs."
   ]
  },
  {
   "cell_type": "markdown",
   "metadata": {},
   "source": [
    "## Latitude vs. Temperature Plot"
   ]
  },
  {
   "cell_type": "code",
   "execution_count": null,
   "metadata": {
    "scrolled": true
   },
   "outputs": [],
   "source": [
    "# Set x and y values\n",
    "city_weather_data.plot('Lat', 'Max Temp', kind='scatter', xlabel='Latitude', ylabel='Max Temperature (C)', title='Max Temperature Vs Latitude', grid=True)\n",
    "plt.show()"
   ]
  },
  {
   "cell_type": "markdown",
   "metadata": {},
   "source": [
    "## Latitude vs. Humidity Plot"
   ]
  },
  {
   "cell_type": "code",
   "execution_count": null,
   "metadata": {},
   "outputs": [],
   "source": [
    "city_weather_data.plot('Lat', 'Humidity', kind='scatter', xlabel='Latitude', ylabel='Humidity (%)', title='Humidity Vs Latitude', grid=True)\n",
    "plt.show()"
   ]
  },
  {
   "cell_type": "markdown",
   "metadata": {},
   "source": [
    "## Latitude vs. Cloudiness Plot"
   ]
  },
  {
   "cell_type": "code",
   "execution_count": null,
   "metadata": {},
   "outputs": [],
   "source": [
    "city_weather_data.plot('Lat', 'Cloudiness', kind='scatter', xlabel='Latitude', ylabel='Cloudiness (%)', title='Cloudiness Vs Latitude', grid=True)\n",
    "plt.show()"
   ]
  },
  {
   "cell_type": "markdown",
   "metadata": {},
   "source": [
    "## Latitude vs. Wind Speed Plot"
   ]
  },
  {
   "cell_type": "code",
   "execution_count": null,
   "metadata": {},
   "outputs": [],
   "source": [
    "city_weather_data.plot('Lat', 'Wind Speed', kind='scatter', xlabel='Latitude', ylabel='Wind Speed (mph)', title='Wind Speed Vs Latitude', grid=True)\n",
    "plt.show()"
   ]
  },
  {
   "cell_type": "markdown",
   "metadata": {},
   "source": [
    "## Linear Regression"
   ]
  },
  {
   "cell_type": "code",
   "execution_count": null,
   "metadata": {},
   "outputs": [],
   "source": [
    "# split data into northern and southern hemispheres\n",
    "northern_hem_cities = city_weather_data.loc[(city_weather_data['Lat'] > 0)]\n",
    "southern_hem_cities = city_weather_data.loc[(city_weather_data['Lat'] < 0)]"
   ]
  },
  {
   "cell_type": "markdown",
   "metadata": {},
   "source": [
    "####  Northern Hemisphere - Max Temp vs. Latitude Linear Regression"
   ]
  },
  {
   "cell_type": "code",
   "execution_count": null,
   "metadata": {},
   "outputs": [],
   "source": [
    "xvalues = northern_hem_cities['Lat']\n",
    "yvalues = northern_hem_cities['Max Temp']\n",
    "slope, intercept, r, p, std_err = linregress(xvalues, yvalues)\n",
    "fit = slope*xvalues + intercept\n",
    "fit_eq = f'y = {round(slope, 2)}x + {round(intercept, 2)}'\n",
    "\n",
    "print(f\"The R-value is {r}\")\n",
    "northern_hem_cities.plot('Lat', 'Max Temp', kind='scatter', xlabel='Latitude', ylabel='Max Temperature (C)', title='Max Temperature Vs Latitude')\n",
    "plt.plot(xvalues, fit, \"-\", color='r')\n",
    "plt.annotate(fit_eq, (10,-10), color='r')\n",
    "plt.show()"
   ]
  },
  {
   "cell_type": "markdown",
   "metadata": {},
   "source": [
    "####  Southern Hemisphere - Max Temp vs. Latitude Linear Regression"
   ]
  },
  {
   "cell_type": "code",
   "execution_count": null,
   "metadata": {},
   "outputs": [],
   "source": [
    "xvalues = southern_hem_cities['Lat']\n",
    "yvalues = southern_hem_cities['Max Temp']\n",
    "slope, intercept, r, p, std_err = linregress(xvalues, yvalues)\n",
    "fit = slope*xvalues + intercept\n",
    "fit_eq = f'y = {round(slope, 2)}x + {round(intercept, 2)}'\n",
    "\n",
    "print(f\"The R-value is {r}\")\n",
    "southern_hem_cities.plot('Lat', 'Max Temp', kind='scatter', xlabel='Latitude', ylabel='Max Temperature (C)', title='Max Temperature Vs Latitude')\n",
    "plt.plot(xvalues, fit, \"-\", color='r')\n",
    "plt.annotate(fit_eq, (-50,30), color='r')\n",
    "plt.show()"
   ]
  },
  {
   "cell_type": "markdown",
   "metadata": {},
   "source": [
    "####  Northern Hemisphere - Humidity (%) vs. Latitude Linear Regression"
   ]
  },
  {
   "cell_type": "code",
   "execution_count": null,
   "metadata": {},
   "outputs": [],
   "source": [
    "xvalues = northern_hem_cities['Lat']\n",
    "yvalues = northern_hem_cities['Humidity']\n",
    "slope, intercept, r, p, std_err = linregress(xvalues, yvalues)\n",
    "fit = slope*xvalues + intercept\n",
    "fit_eq = f'y = {round(slope, 2)}x + {round(intercept, 2)}'\n",
    "\n",
    "print(f\"The R-value is {r}\")\n",
    "northern_hem_cities.plot('Lat', 'Humidity', kind='scatter', xlabel='Latitude', ylabel='Humidity (%)', title='Humidity Vs Latitude')\n",
    "plt.plot(xvalues, fit, \"-\", color='r')\n",
    "plt.annotate(fit_eq, (0,34), color='r')\n",
    "plt.show()"
   ]
  },
  {
   "cell_type": "markdown",
   "metadata": {},
   "source": [
    "####  Southern Hemisphere - Humidity (%) vs. Latitude Linear Regression"
   ]
  },
  {
   "cell_type": "code",
   "execution_count": null,
   "metadata": {},
   "outputs": [],
   "source": [
    "xvalues = southern_hem_cities['Lat']\n",
    "yvalues = southern_hem_cities['Humidity']\n",
    "slope, intercept, r, p, std_err = linregress(xvalues, yvalues)\n",
    "fit = slope*xvalues + intercept\n",
    "fit_eq = f'y = {round(slope, 2)}x + {round(intercept, 2)}'\n",
    "\n",
    "print(f\"The R-value is {r}\")\n",
    "southern_hem_cities.plot('Lat', 'Humidity', kind='scatter', xlabel='Latitude', ylabel='Humidity (%)', title='Humidity Vs Latitude')\n",
    "plt.plot(xvalues, fit, \"-\", color='r')\n",
    "plt.annotate(fit_eq, (-52,42), color='r')\n",
    "plt.show()"
   ]
  },
  {
   "cell_type": "markdown",
   "metadata": {},
   "source": [
    "####  Northern Hemisphere - Cloudiness (%) vs. Latitude Linear Regression"
   ]
  },
  {
   "cell_type": "code",
   "execution_count": null,
   "metadata": {},
   "outputs": [],
   "source": [
    "xvalues = northern_hem_cities['Lat']\n",
    "yvalues = northern_hem_cities['Cloudiness']\n",
    "slope, intercept, r, p, std_err = linregress(xvalues, yvalues)\n",
    "fit = slope*xvalues + intercept\n",
    "fit_eq = f'y = {round(slope, 2)}x + {round(intercept, 2)}'\n",
    "\n",
    "print(f\"The R-value is {r}\")\n",
    "northern_hem_cities.plot('Lat', 'Cloudiness', kind='scatter', xlabel='Latitude', ylabel='Cloudiness (%)', title='Cloudiness Vs Latitude')\n",
    "plt.plot(xvalues, fit, \"-\", color='r')\n",
    "plt.annotate(fit_eq, (51,44), color='r')\n",
    "plt.show()"
   ]
  },
  {
   "cell_type": "markdown",
   "metadata": {},
   "source": [
    "####  Southern Hemisphere - Cloudiness (%) vs. Latitude Linear Regression"
   ]
  },
  {
   "cell_type": "code",
   "execution_count": null,
   "metadata": {},
   "outputs": [],
   "source": [
    "xvalues = southern_hem_cities['Lat']\n",
    "yvalues = southern_hem_cities['Cloudiness']\n",
    "slope, intercept, r, p, std_err = linregress(xvalues, yvalues)\n",
    "fit = slope*xvalues + intercept\n",
    "fit_eq = f'y = {round(slope, 2)}x + {round(intercept, 2)}'\n",
    "\n",
    "print(f\"The R-value is {r}\")\n",
    "southern_hem_cities.plot('Lat', 'Cloudiness', kind='scatter', xlabel='Latitude', ylabel='Cloudiness (%)', title='Cloudiness Vs Latitude')\n",
    "plt.plot(xvalues, fit, \"-\", color='r')\n",
    "plt.annotate(fit_eq, (-52,53), color='r')\n",
    "plt.show()"
   ]
  },
  {
   "cell_type": "markdown",
   "metadata": {},
   "source": [
    "####  Northern Hemisphere - Wind Speed (mph) vs. Latitude Linear Regression"
   ]
  },
  {
   "cell_type": "code",
   "execution_count": null,
   "metadata": {},
   "outputs": [],
   "source": [
    "xvalues = northern_hem_cities['Lat']\n",
    "yvalues = northern_hem_cities['Wind Speed']\n",
    "slope, intercept, r, p, std_err = linregress(xvalues, yvalues)\n",
    "fit = slope*xvalues + intercept\n",
    "fit_eq = f'y = {round(slope, 2)}x + {round(intercept, 2)}'\n",
    "\n",
    "print(f\"The R-value is {r}\")\n",
    "northern_hem_cities.plot('Lat', 'Wind Speed', kind='scatter', xlabel='Latitude', ylabel='Wind Speed (m/s)', title='Wind Speed Vs Latitude')\n",
    "plt.plot(xvalues, fit, \"-\", color='r')\n",
    "plt.annotate(fit_eq, (5,12), color='r')\n",
    "plt.show()"
   ]
  },
  {
   "cell_type": "markdown",
   "metadata": {},
   "source": [
    "####  Southern Hemisphere - Wind Speed (mph) vs. Latitude Linear Regression"
   ]
  },
  {
   "cell_type": "code",
   "execution_count": null,
   "metadata": {},
   "outputs": [],
   "source": [
    "xvalues = southern_hem_cities['Lat']\n",
    "yvalues = southern_hem_cities['Wind Speed']\n",
    "slope, intercept, r, p, std_err = linregress(xvalues, yvalues)\n",
    "fit = slope*xvalues + intercept\n",
    "fit_eq = f'y = {round(slope, 2)}x + {round(intercept, 2)}'\n",
    "\n",
    "print(f\"The R-value is {r}\")\n",
    "southern_hem_cities.plot('Lat', 'Wind Speed', kind='scatter', xlabel='Latitude', ylabel='Wind Speed (m/s)', title='Wind Speed Vs Latitude')\n",
    "plt.plot(xvalues, fit, \"-\", color='r')\n",
    "plt.annotate(fit_eq, (-55,8), color='r')\n",
    "plt.show()"
   ]
  },
  {
   "cell_type": "code",
   "execution_count": null,
   "metadata": {},
   "outputs": [],
   "source": []
  }
 ],
 "metadata": {
  "anaconda-cloud": {},
  "kernel_info": {
   "name": "python3"
  },
  "kernelspec": {
   "display_name": "Python 3",
   "language": "python",
   "name": "python3"
  },
  "language_info": {
   "codemirror_mode": {
    "name": "ipython",
    "version": 3
   },
   "file_extension": ".py",
   "mimetype": "text/x-python",
   "name": "python",
   "nbconvert_exporter": "python",
   "pygments_lexer": "ipython3",
   "version": "3.8.8"
  },
  "latex_envs": {
   "LaTeX_envs_menu_present": true,
   "autoclose": false,
   "autocomplete": true,
   "bibliofile": "biblio.bib",
   "cite_by": "apalike",
   "current_citInitial": 1,
   "eqLabelWithNumbers": true,
   "eqNumInitial": 1,
   "hotkeys": {
    "equation": "Ctrl-E",
    "itemize": "Ctrl-I"
   },
   "labels_anchors": false,
   "latex_user_defs": false,
   "report_style_numbering": false,
   "user_envs_cfg": false
  },
  "nteract": {
   "version": "0.12.3"
  }
 },
 "nbformat": 4,
 "nbformat_minor": 2
}
